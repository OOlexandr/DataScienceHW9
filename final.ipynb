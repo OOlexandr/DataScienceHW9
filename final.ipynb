{
 "cells": [
  {
   "cell_type": "code",
   "execution_count": 28,
   "metadata": {},
   "outputs": [],
   "source": [
    "import keras as K\n",
    "from keras.datasets import fashion_mnist\n",
    "import matplotlib.pyplot as plt\n",
    "import numpy as np\n",
    "import tensorflow as tf\n",
    "from keras import models\n",
    "from keras import layers\n",
    "from keras.callbacks import EarlyStopping"
   ]
  },
  {
   "cell_type": "code",
   "execution_count": 29,
   "metadata": {},
   "outputs": [],
   "source": [
    "#preparing data\n",
    "num_classes = 10\n",
    "num_features = 784\n",
    "(train_data, train_labels), (test_data, test_labels) = fashion_mnist.load_data()\n",
    "train_data, test_data = np.array(train_data, np.float32), np.array(test_data, np.float32)\n",
    "train_data, test_data = train_data / 255., test_data / 255.\n",
    "\n",
    "\n",
    "#in case i'll want to print labels\n",
    "labels = ['T-shirt/top', 'Trouser', 'Pullover', 'Dress', 'Coat', 'Sandal', 'Shirt', 'Sneaker', 'Bag', 'Ankle boot']"
   ]
  },
  {
   "cell_type": "code",
   "execution_count": 46,
   "metadata": {},
   "outputs": [],
   "source": [
    "model = models.Sequential([\n",
    "    layers.Conv2D(32, (3, 3), activation=\"relu\", input_shape=(28, 28, 1)),\n",
    "    layers.MaxPooling2D((2, 2)),\n",
    "\n",
    "    layers.Conv2D(64, (3, 3), activation=\"relu\"),\n",
    "    layers.MaxPooling2D((2, 2)),\n",
    "\n",
    "    layers.Conv2D(64, (3, 3), activation=\"relu\"),\n",
    "\n",
    "    layers.Flatten(),\n",
    "    layers.Dense(64, activation=\"relu\"),\n",
    "    layers.Dropout(0.1),\n",
    "    layers.Dense(10, activation=\"softmax\")\n",
    "])\n",
    "model.compile(\n",
    "    optimizer=\"adam\",\n",
    "    loss=\"sparse_categorical_crossentropy\",\n",
    "    metrics=[\"accuracy\"]\n",
    ")"
   ]
  },
  {
   "cell_type": "code",
   "execution_count": 47,
   "metadata": {},
   "outputs": [
    {
     "name": "stdout",
     "output_type": "stream",
     "text": [
      "Epoch 1/40\n",
      "919/919 [==============================] - 200s 209ms/step - loss: 0.5753 - accuracy: 0.7895 - val_loss: 0.3808 - val_accuracy: 0.8533\n",
      "Epoch 2/40\n",
      "919/919 [==============================] - 197s 214ms/step - loss: 0.3572 - accuracy: 0.8706 - val_loss: 0.3136 - val_accuracy: 0.8800\n",
      "Epoch 3/40\n",
      "919/919 [==============================] - 200s 217ms/step - loss: 0.3016 - accuracy: 0.8900 - val_loss: 0.2881 - val_accuracy: 0.8933\n",
      "Epoch 4/40\n",
      "919/919 [==============================] - 206s 224ms/step - loss: 0.2707 - accuracy: 0.8998 - val_loss: 0.2735 - val_accuracy: 0.8917\n",
      "Epoch 5/40\n",
      "919/919 [==============================] - 196s 213ms/step - loss: 0.2513 - accuracy: 0.9078 - val_loss: 0.2501 - val_accuracy: 0.9033\n",
      "Epoch 6/40\n",
      "919/919 [==============================] - 196s 213ms/step - loss: 0.2333 - accuracy: 0.9138 - val_loss: 0.2682 - val_accuracy: 0.9017\n",
      "Epoch 7/40\n",
      "919/919 [==============================] - 197s 214ms/step - loss: 0.2146 - accuracy: 0.9206 - val_loss: 0.2575 - val_accuracy: 0.9033\n",
      "Epoch 8/40\n",
      "919/919 [==============================] - 196s 213ms/step - loss: 0.1995 - accuracy: 0.9262 - val_loss: 0.2597 - val_accuracy: 0.9000\n",
      "Epoch 9/40\n",
      "919/919 [==============================] - 175s 191ms/step - loss: 0.1879 - accuracy: 0.9292 - val_loss: 0.2446 - val_accuracy: 0.9167\n",
      "Epoch 10/40\n",
      "919/919 [==============================] - 195s 213ms/step - loss: 0.1754 - accuracy: 0.9347 - val_loss: 0.2384 - val_accuracy: 0.9225\n",
      "Epoch 11/40\n",
      "919/919 [==============================] - 203s 221ms/step - loss: 0.1601 - accuracy: 0.9393 - val_loss: 0.2503 - val_accuracy: 0.9175\n",
      "Epoch 12/40\n",
      "919/919 [==============================] - 204s 222ms/step - loss: 0.1533 - accuracy: 0.9435 - val_loss: 0.2583 - val_accuracy: 0.9033\n",
      "Epoch 13/40\n",
      "919/919 [==============================] - 192s 209ms/step - loss: 0.1404 - accuracy: 0.9467 - val_loss: 0.2479 - val_accuracy: 0.9150\n",
      "Epoch 14/40\n",
      "919/919 [==============================] - 169s 184ms/step - loss: 0.1350 - accuracy: 0.9484 - val_loss: 0.2680 - val_accuracy: 0.9192\n",
      "Epoch 14: early stopping\n"
     ]
    },
    {
     "data": {
      "text/plain": [
       "<keras.src.callbacks.History at 0x271bb013110>"
      ]
     },
     "execution_count": 47,
     "metadata": {},
     "output_type": "execute_result"
    }
   ],
   "source": [
    "es = EarlyStopping(monitor='val_accuracy', verbose=1, patience=4)\n",
    "model.fit(train_data, train_labels, epochs=40, batch_size=64, validation_split=0.02, callbacks=[es])"
   ]
  },
  {
   "cell_type": "code",
   "execution_count": 48,
   "metadata": {},
   "outputs": [
    {
     "name": "stdout",
     "output_type": "stream",
     "text": [
      "313/313 [==============================] - 9s 30ms/step - loss: 0.2708 - accuracy: 0.9137\n"
     ]
    }
   ],
   "source": [
    "result = model.evaluate(test_data, test_labels)\n",
    "#And accuracy 0.9137. Second try. All I had to do is to use CNN and add dropout to final layer"
   ]
  }
 ],
 "metadata": {
  "kernelspec": {
   "display_name": "Python 3",
   "language": "python",
   "name": "python3"
  },
  "language_info": {
   "codemirror_mode": {
    "name": "ipython",
    "version": 3
   },
   "file_extension": ".py",
   "mimetype": "text/x-python",
   "name": "python",
   "nbconvert_exporter": "python",
   "pygments_lexer": "ipython3",
   "version": "3.11.1"
  }
 },
 "nbformat": 4,
 "nbformat_minor": 2
}
